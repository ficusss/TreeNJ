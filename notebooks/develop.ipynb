{
 "cells": [
  {
   "cell_type": "code",
   "execution_count": 24,
   "metadata": {},
   "outputs": [],
   "source": [
    "import numpy as np\n",
    "import pandas as pd\n",
    "from Bio.Phylo import BaseTree"
   ]
  },
  {
   "cell_type": "code",
   "execution_count": 31,
   "metadata": {},
   "outputs": [
    {
     "data": {
      "text/plain": [
       "array([[ 0. ,  1. ,  2. ,  3. ,  1.5],\n",
       "       [ 1. ,  0. ,  2.3,  4.1,  1. ],\n",
       "       [ 2. ,  2.3,  0. ,  3. ,  5. ],\n",
       "       [ 3. ,  4.1,  3. ,  0. ,  4. ],\n",
       "       [ 1.5,  1. ,  5. ,  4. ,  0. ]])"
      ]
     },
     "execution_count": 31,
     "metadata": {},
     "output_type": "execute_result"
    }
   ],
   "source": [
    "dist_matrix = np.array([[  0,   1,   2,   3, 1.5],\n",
    "                        [  1,   0, 2.3, 4.1,   1],\n",
    "                        [  2, 2.3,   0,   3,   5],\n",
    "                        [  3, 4.1,   3,   0,   4],\n",
    "                        [1.5,   1,   5,   4,   0]])\n",
    "dist_matrix"
   ]
  },
  {
   "cell_type": "code",
   "execution_count": 32,
   "metadata": {},
   "outputs": [
    {
     "data": {
      "text/html": [
       "<div>\n",
       "<style scoped>\n",
       "    .dataframe tbody tr th:only-of-type {\n",
       "        vertical-align: middle;\n",
       "    }\n",
       "\n",
       "    .dataframe tbody tr th {\n",
       "        vertical-align: top;\n",
       "    }\n",
       "\n",
       "    .dataframe thead th {\n",
       "        text-align: right;\n",
       "    }\n",
       "</style>\n",
       "<table border=\"1\" class=\"dataframe\">\n",
       "  <thead>\n",
       "    <tr style=\"text-align: right;\">\n",
       "      <th></th>\n",
       "      <th>0</th>\n",
       "      <th>1</th>\n",
       "      <th>2</th>\n",
       "      <th>3</th>\n",
       "      <th>42</th>\n",
       "    </tr>\n",
       "  </thead>\n",
       "  <tbody>\n",
       "    <tr>\n",
       "      <th>0</th>\n",
       "      <td>0.0</td>\n",
       "      <td>1.0</td>\n",
       "      <td>2.0</td>\n",
       "      <td>3.0</td>\n",
       "      <td>1.5</td>\n",
       "    </tr>\n",
       "    <tr>\n",
       "      <th>1</th>\n",
       "      <td>1.0</td>\n",
       "      <td>0.0</td>\n",
       "      <td>2.3</td>\n",
       "      <td>4.1</td>\n",
       "      <td>1.0</td>\n",
       "    </tr>\n",
       "    <tr>\n",
       "      <th>2</th>\n",
       "      <td>2.0</td>\n",
       "      <td>2.3</td>\n",
       "      <td>0.0</td>\n",
       "      <td>3.0</td>\n",
       "      <td>5.0</td>\n",
       "    </tr>\n",
       "    <tr>\n",
       "      <th>3</th>\n",
       "      <td>3.0</td>\n",
       "      <td>4.1</td>\n",
       "      <td>3.0</td>\n",
       "      <td>0.0</td>\n",
       "      <td>4.0</td>\n",
       "    </tr>\n",
       "    <tr>\n",
       "      <th>42</th>\n",
       "      <td>1.5</td>\n",
       "      <td>1.0</td>\n",
       "      <td>5.0</td>\n",
       "      <td>4.0</td>\n",
       "      <td>0.0</td>\n",
       "    </tr>\n",
       "  </tbody>\n",
       "</table>\n",
       "</div>"
      ],
      "text/plain": [
       "     0    1    2    3    42\n",
       "0   0.0  1.0  2.0  3.0  1.5\n",
       "1   1.0  0.0  2.3  4.1  1.0\n",
       "2   2.0  2.3  0.0  3.0  5.0\n",
       "3   3.0  4.1  3.0  0.0  4.0\n",
       "42  1.5  1.0  5.0  4.0  0.0"
      ]
     },
     "execution_count": 32,
     "metadata": {},
     "output_type": "execute_result"
    }
   ],
   "source": [
    "dist_matrix = pd.DataFrame(dist_matrix, columns=[0, 1, 2, 3, 42], index=[0, 1, 2, 3, 42])\n",
    "dist_matrix"
   ]
  },
  {
   "cell_type": "code",
   "execution_count": 38,
   "metadata": {},
   "outputs": [
    {
     "data": {
      "text/plain": [
       "array([[  0. , -12.9, -13.8, -12.6, -14.5],\n",
       "       [-12.9,   0. , -13.8, -10.2, -16.9],\n",
       "       [-13.8, -13.8,   0. , -17.4,  -8.8],\n",
       "       [-12.6, -10.2, -17.4,   0. , -13.6],\n",
       "       [-14.5, -16.9,  -8.8, -13.6,   0. ]])"
      ]
     },
     "execution_count": 38,
     "metadata": {},
     "output_type": "execute_result"
    }
   ],
   "source": [
    "n = dist_matrix.shape[0]\n",
    "q_matrix = np.zeros((n, n))\n",
    "for ii, i in enumerate(dist_matrix.columns):\n",
    "    for jj, j in enumerate(dist_matrix.index):\n",
    "        if i == j:\n",
    "            q_matrix[ii, jj] = 0\n",
    "        else:\n",
    "            q_matrix[ii, jj] = ((n - 2) * dist_matrix[i][j]\n",
    "                              -dist_matrix[i].sum()\n",
    "                              -dist_matrix[j].sum())\n",
    "\n",
    "q_matrix"
   ]
  },
  {
   "cell_type": "code",
   "execution_count": 40,
   "metadata": {},
   "outputs": [
    {
     "data": {
      "text/plain": [
       "42"
      ]
     },
     "execution_count": 40,
     "metadata": {},
     "output_type": "execute_result"
    }
   ],
   "source": [
    "dist_matrix.index[4]"
   ]
  },
  {
   "cell_type": "code",
   "execution_count": 5,
   "metadata": {},
   "outputs": [
    {
     "data": {
      "text/plain": [
       "(2, 3)"
      ]
     },
     "execution_count": 5,
     "metadata": {},
     "output_type": "execute_result"
    }
   ],
   "source": [
    "tmp = np.argmin(q_matrix)\n",
    "index = tmp // n\n",
    "column = tmp % n\n",
    "\n",
    "index, column"
   ]
  },
  {
   "cell_type": "code",
   "execution_count": 6,
   "metadata": {},
   "outputs": [
    {
     "data": {
      "text/plain": [
       "(1.2000000000000002, 1.7999999999999998)"
      ]
     },
     "execution_count": 6,
     "metadata": {},
     "output_type": "execute_result"
    }
   ],
   "source": [
    "range_index = ( dist_matrix[index][column] / 2 \n",
    "               + (dist_matrix[index].sum() - dist_matrix[column].sum()) / (2 * (n - 2)))\n",
    "range_column = dist_matrix[index][column] - range_index\n",
    "\n",
    "range_index, range_column"
   ]
  },
  {
   "cell_type": "code",
   "execution_count": 7,
   "metadata": {},
   "outputs": [
    {
     "data": {
      "text/html": [
       "<div>\n",
       "<style scoped>\n",
       "    .dataframe tbody tr th:only-of-type {\n",
       "        vertical-align: middle;\n",
       "    }\n",
       "\n",
       "    .dataframe tbody tr th {\n",
       "        vertical-align: top;\n",
       "    }\n",
       "\n",
       "    .dataframe thead th {\n",
       "        text-align: right;\n",
       "    }\n",
       "</style>\n",
       "<table border=\"1\" class=\"dataframe\">\n",
       "  <thead>\n",
       "    <tr style=\"text-align: right;\">\n",
       "      <th></th>\n",
       "      <th>0</th>\n",
       "      <th>1</th>\n",
       "      <th>4</th>\n",
       "    </tr>\n",
       "  </thead>\n",
       "  <tbody>\n",
       "    <tr>\n",
       "      <th>0</th>\n",
       "      <td>0.0</td>\n",
       "      <td>1.0</td>\n",
       "      <td>1.5</td>\n",
       "    </tr>\n",
       "    <tr>\n",
       "      <th>1</th>\n",
       "      <td>1.0</td>\n",
       "      <td>0.0</td>\n",
       "      <td>1.0</td>\n",
       "    </tr>\n",
       "    <tr>\n",
       "      <th>4</th>\n",
       "      <td>1.5</td>\n",
       "      <td>1.0</td>\n",
       "      <td>0.0</td>\n",
       "    </tr>\n",
       "  </tbody>\n",
       "</table>\n",
       "</div>"
      ],
      "text/plain": [
       "     0    1    4\n",
       "0  0.0  1.0  1.5\n",
       "1  1.0  0.0  1.0\n",
       "4  1.5  1.0  0.0"
      ]
     },
     "execution_count": 7,
     "metadata": {},
     "output_type": "execute_result"
    }
   ],
   "source": [
    "new_dist_matrix = dist_matrix.drop([index, column], axis=0)\n",
    "new_dist_matrix = new_dist_matrix.drop([index, column], axis=1)\n",
    "new_dist_matrix"
   ]
  },
  {
   "cell_type": "code",
   "execution_count": 8,
   "metadata": {},
   "outputs": [
    {
     "data": {
      "text/plain": [
       "0    1.0\n",
       "1    1.7\n",
       "4    3.0\n",
       "Name: 5, dtype: float64"
      ]
     },
     "execution_count": 8,
     "metadata": {},
     "output_type": "execute_result"
    }
   ],
   "source": [
    "free_name = dist_matrix.shape[0]\n",
    "get_dist = lambda m, f, g, k: (m[f][k] + m[g][k] - m[f][g]) / 2\n",
    "\n",
    "new_item = pd.Series([get_dist(dist_matrix, index, column, k) for k in new_dist_matrix.index],\n",
    "                     name=free_name, index = new_dist_matrix.index)\n",
    "new_item"
   ]
  },
  {
   "cell_type": "code",
   "execution_count": 9,
   "metadata": {},
   "outputs": [
    {
     "data": {
      "text/html": [
       "<div>\n",
       "<style scoped>\n",
       "    .dataframe tbody tr th:only-of-type {\n",
       "        vertical-align: middle;\n",
       "    }\n",
       "\n",
       "    .dataframe tbody tr th {\n",
       "        vertical-align: top;\n",
       "    }\n",
       "\n",
       "    .dataframe thead th {\n",
       "        text-align: right;\n",
       "    }\n",
       "</style>\n",
       "<table border=\"1\" class=\"dataframe\">\n",
       "  <thead>\n",
       "    <tr style=\"text-align: right;\">\n",
       "      <th></th>\n",
       "      <th>0</th>\n",
       "      <th>1</th>\n",
       "      <th>4</th>\n",
       "      <th>5</th>\n",
       "    </tr>\n",
       "  </thead>\n",
       "  <tbody>\n",
       "    <tr>\n",
       "      <th>0</th>\n",
       "      <td>0.0</td>\n",
       "      <td>1.0</td>\n",
       "      <td>1.5</td>\n",
       "      <td>1.0</td>\n",
       "    </tr>\n",
       "    <tr>\n",
       "      <th>1</th>\n",
       "      <td>1.0</td>\n",
       "      <td>0.0</td>\n",
       "      <td>1.0</td>\n",
       "      <td>1.7</td>\n",
       "    </tr>\n",
       "    <tr>\n",
       "      <th>4</th>\n",
       "      <td>1.5</td>\n",
       "      <td>1.0</td>\n",
       "      <td>0.0</td>\n",
       "      <td>3.0</td>\n",
       "    </tr>\n",
       "    <tr>\n",
       "      <th>5</th>\n",
       "      <td>1.0</td>\n",
       "      <td>1.7</td>\n",
       "      <td>3.0</td>\n",
       "      <td>0.0</td>\n",
       "    </tr>\n",
       "  </tbody>\n",
       "</table>\n",
       "</div>"
      ],
      "text/plain": [
       "     0    1    4    5\n",
       "0  0.0  1.0  1.5  1.0\n",
       "1  1.0  0.0  1.0  1.7\n",
       "4  1.5  1.0  0.0  3.0\n",
       "5  1.0  1.7  3.0  0.0"
      ]
     },
     "execution_count": 9,
     "metadata": {},
     "output_type": "execute_result"
    }
   ],
   "source": [
    "new_dist_matrix = new_dist_matrix.append(new_item).T\n",
    "new_item = new_item.append(pd.Series(0, name=free_name, index=[free_name]))\n",
    "new_dist_matrix = new_dist_matrix.append(new_item)\n",
    "free_name += 1\n",
    "\n",
    "new_dist_matrix"
   ]
  },
  {
   "cell_type": "code",
   "execution_count": 71,
   "metadata": {},
   "outputs": [
    {
     "name": "stdout",
     "output_type": "stream",
     "text": [
      "Tree(rooted=False)\n",
      "    Clade(branch_length=0.3, name=3)\n",
      "        Clade(branch_length=0.1, name=1)\n",
      "        Clade(branch_length=0.2, name=2)\n"
     ]
    }
   ],
   "source": [
    "tmp1 = BaseTree.Clade(0.1, 1)\n",
    "tmp2 = BaseTree.Clade(0.2, 2)\n",
    "\n",
    "tmpr = BaseTree.Clade(0.3, 3, [tmp1, tmp2])\n",
    "\n",
    "\n",
    "\n",
    "print(BaseTree.Tree(tmpr, rooted=False))"
   ]
  },
  {
   "cell_type": "code",
   "execution_count": 68,
   "metadata": {},
   "outputs": [
    {
     "name": "stdout",
     "output_type": "stream",
     "text": [
      "Tree(rooted=True)\n",
      "    Clade(branch_length=0.3, name=3)\n",
      "        Clade(branch_length=0.1, name=1)\n",
      "        Clade(branch_length=0.2, name=2)\n"
     ]
    }
   ],
   "source": [
    "tmp = BaseTree.Clade(0.3, 3)\n",
    "tmp.clades.append(BaseTree.Clade(0.1, 1))\n",
    "tmp.clades.append(BaseTree.Clade(0.2, 2))\n",
    "\n",
    "\n",
    "print(BaseTree.Tree(tmp))"
   ]
  },
  {
   "cell_type": "code",
   "execution_count": 104,
   "metadata": {},
   "outputs": [
    {
     "data": {
      "text/plain": [
       "{0: Clade(name=0),\n",
       " 1: Clade(name=1),\n",
       " 2: Clade(name=2),\n",
       " 3: Clade(name=3),\n",
       " 4: Clade(name=4)}"
      ]
     },
     "execution_count": 104,
     "metadata": {},
     "output_type": "execute_result"
    }
   ],
   "source": [
    "nodes = {name: BaseTree.Clade(None, name) for name in dist_matrix.columns}\n",
    "nodes"
   ]
  },
  {
   "cell_type": "code",
   "execution_count": 105,
   "metadata": {},
   "outputs": [],
   "source": [
    "tmp1 = nodes.pop(dist_matrix.columns[index])\n",
    "tmp2 = nodes.pop(dist_matrix.columns[column])"
   ]
  },
  {
   "cell_type": "code",
   "execution_count": 106,
   "metadata": {},
   "outputs": [
    {
     "data": {
      "text/plain": [
       "(Clade(name=2), Clade(name=3))"
      ]
     },
     "execution_count": 106,
     "metadata": {},
     "output_type": "execute_result"
    }
   ],
   "source": [
    "tmp1, tmp2"
   ]
  },
  {
   "cell_type": "code",
   "execution_count": 107,
   "metadata": {},
   "outputs": [],
   "source": [
    "tmp1.branch_length = range_index\n",
    "tmp2.branch_length = range_column"
   ]
  },
  {
   "cell_type": "code",
   "execution_count": 108,
   "metadata": {},
   "outputs": [
    {
     "data": {
      "text/plain": [
       "(Clade(name=2), Clade(name=3))"
      ]
     },
     "execution_count": 108,
     "metadata": {},
     "output_type": "execute_result"
    }
   ],
   "source": [
    "\n",
    "tmp1, tmp2"
   ]
  },
  {
   "cell_type": "code",
   "execution_count": 65,
   "metadata": {},
   "outputs": [
    {
     "name": "stdout",
     "output_type": "stream",
     "text": [
      "Tree(rooted=True)\n",
      "    Clade(name=6)\n",
      "        Clade(name=2)\n",
      "        Clade(name=3)\n"
     ]
    }
   ],
   "source": [
    "nodes[free_name] = BaseTree.Clade(None, free_name, [tmp1, tmp2])\n",
    "\n",
    "print(BaseTree.Tree(nodes[6]))"
   ]
  },
  {
   "cell_type": "code",
   "execution_count": 20,
   "metadata": {},
   "outputs": [
    {
     "data": {
      "text/plain": [
       "'12'"
      ]
     },
     "execution_count": 20,
     "metadata": {},
     "output_type": "execute_result"
    }
   ],
   "source": [
    "\"{}{}\".format(str(1), str(2))"
   ]
  },
  {
   "cell_type": "code",
   "execution_count": 75,
   "metadata": {},
   "outputs": [
    {
     "data": {
      "text/plain": [
       "1"
      ]
     },
     "execution_count": 75,
     "metadata": {},
     "output_type": "execute_result"
    }
   ],
   "source": [
    "tmp = {1123:1}\n",
    "list(tmp.values())[0]\n"
   ]
  },
  {
   "cell_type": "code",
   "execution_count": 78,
   "metadata": {},
   "outputs": [
    {
     "ename": "ModuleNotFoundError",
     "evalue": "No module named 'treenj'",
     "output_type": "error",
     "traceback": [
      "\u001b[0;31m---------------------------------------------------------------------------\u001b[0m",
      "\u001b[0;31mModuleNotFoundError\u001b[0m                       Traceback (most recent call last)",
      "\u001b[0;32m<ipython-input-78-2e61eb748131>\u001b[0m in \u001b[0;36m<module>\u001b[0;34m()\u001b[0m\n\u001b[0;32m----> 1\u001b[0;31m \u001b[0;32mfrom\u001b[0m \u001b[0mtreenj\u001b[0m\u001b[0;34m.\u001b[0m\u001b[0mpy\u001b[0m \u001b[0;32mimport\u001b[0m \u001b[0mTreeNJ\u001b[0m\u001b[0;34m\u001b[0m\u001b[0m\n\u001b[0m",
      "\u001b[0;31mModuleNotFoundError\u001b[0m: No module named 'treenj'"
     ]
    }
   ],
   "source": [
    "from treenj.py import TreeNJ"
   ]
  }
 ],
 "metadata": {
  "kernelspec": {
   "display_name": "Python 3",
   "language": "python",
   "name": "python3"
  },
  "language_info": {
   "codemirror_mode": {
    "name": "ipython",
    "version": 3
   },
   "file_extension": ".py",
   "mimetype": "text/x-python",
   "name": "python",
   "nbconvert_exporter": "python",
   "pygments_lexer": "ipython3",
   "version": "3.6.6"
  }
 },
 "nbformat": 4,
 "nbformat_minor": 2
}
