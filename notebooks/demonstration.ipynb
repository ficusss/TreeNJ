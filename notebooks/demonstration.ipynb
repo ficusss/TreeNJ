{
 "cells": [
  {
   "cell_type": "code",
   "execution_count": 4,
   "metadata": {},
   "outputs": [],
   "source": [
    "import numpy as np\n",
    "import pandas as pd"
   ]
  },
  {
   "cell_type": "code",
   "execution_count": 12,
   "metadata": {},
   "outputs": [
    {
     "data": {
      "text/plain": [
       "array([[ 0. ,  1. ,  2. ,  3. ,  1.5],\n",
       "       [ 1. ,  0. ,  2.3,  4.1,  1. ],\n",
       "       [ 2. ,  2.3,  0. ,  3. ,  5. ],\n",
       "       [ 3. ,  4.1,  3. ,  0. ,  4. ],\n",
       "       [ 1.5,  1. ,  5. ,  4. ,  0. ]])"
      ]
     },
     "execution_count": 12,
     "metadata": {},
     "output_type": "execute_result"
    }
   ],
   "source": [
    "pd.DataFrame(data = [[  0,   1,   2,   3, 1.5],\n",
    "                    [  1,   0, 2.3, 4.1,   1],\n",
    "                    [  2, 2.3,   0,   3,   5],\n",
    "                    [  3, 4.1,   3,   0,   4],\n",
    "                    [1.5,   1,   5,   4,   0]],\n",
    "             columns=[1, 2, 3, 4, 5], index=[1, 2, 3, 4, 5])\n",
    "\n",
    "dist_matrix = np.array([[  0,   1,   2,   3, 1.5],\n",
    "                        [  1,   0, 2.3, 4.1,   1],\n",
    "                        [  2, 2.3,   0,   3,   5],\n",
    "                        [  3, 4.1,   3,   0,   4],\n",
    "                        [1.5,   1,   5,   4,   0]])\n",
    "dist_matrix"
   ]
  },
  {
   "cell_type": "code",
   "execution_count": 38,
   "metadata": {},
   "outputs": [
    {
     "data": {
      "text/plain": [
       "array([[  0. , -12.9, -13.8, -12.6, -14.5],\n",
       "       [-12.9,   0. , -13.8, -10.2, -16.9],\n",
       "       [-13.8, -13.8,   0. , -17.4,  -8.8],\n",
       "       [-12.6, -10.2, -17.4,   0. , -13.6],\n",
       "       [-14.5, -16.9,  -8.8, -13.6,   0. ]])"
      ]
     },
     "execution_count": 38,
     "metadata": {},
     "output_type": "execute_result"
    }
   ],
   "source": [
    "n = dist_matrix.shape[0]\n",
    "q_matrix = np.zeros((n, n))\n",
    "for i in range(n):\n",
    "    for j in range(n):\n",
    "        if i == j:\n",
    "            q_matrix[i, j] = 0\n",
    "        else:\n",
    "            q_matrix[i, j] = ((n - 2) * dist_matrix[i, j]\n",
    "                              -np.sum(dist_matrix[i,])\n",
    "                              -np.sum(dist_matrix[j,]))\n",
    "\n",
    "q_matrix"
   ]
  },
  {
   "cell_type": "code",
   "execution_count": 45,
   "metadata": {},
   "outputs": [
    {
     "data": {
      "text/plain": [
       "(2, 3)"
      ]
     },
     "execution_count": 45,
     "metadata": {},
     "output_type": "execute_result"
    }
   ],
   "source": [
    "tmp = np.argmin(q_matrix)\n",
    "index = tmp // n\n",
    "columns = tmp % n\n",
    "\n",
    "index, columns"
   ]
  },
  {
   "cell_type": "code",
   "execution_count": null,
   "metadata": {},
   "outputs": [],
   "source": []
  }
 ],
 "metadata": {
  "kernelspec": {
   "display_name": "Python 3",
   "language": "python",
   "name": "python3"
  },
  "language_info": {
   "codemirror_mode": {
    "name": "ipython",
    "version": 3
   },
   "file_extension": ".py",
   "mimetype": "text/x-python",
   "name": "python",
   "nbconvert_exporter": "python",
   "pygments_lexer": "ipython3",
   "version": "3.6.6"
  }
 },
 "nbformat": 4,
 "nbformat_minor": 2
}
